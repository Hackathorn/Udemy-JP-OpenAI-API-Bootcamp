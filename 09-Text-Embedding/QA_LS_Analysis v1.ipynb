{
  "nbformat": 4,
  "nbformat_minor": 0,
  "metadata": {
    "colab": {
      "provenance": [],
      "authorship_tag": "ABX9TyM1XqJ4yMc/lQOWkNILm0v8",
      "include_colab_link": true
    },
    "kernelspec": {
      "name": "python3",
      "display_name": "Python 3"
    },
    "language_info": {
      "name": "python"
    }
  },
  "cells": [
    {
      "cell_type": "markdown",
      "metadata": {
        "id": "view-in-github",
        "colab_type": "text"
      },
      "source": [
        "<a href=\"https://colab.research.google.com/github/Hackathorn/Udemy-JP-OpenAI-API-Bootcamp/blob/master/09-Text-Embedding/QA_LS_Analysis.ipynb\" target=\"_parent\"><img src=\"https://colab.research.google.com/assets/colab-badge.svg\" alt=\"Open In Colab\"/></a>"
      ]
    },
    {
      "cell_type": "markdown",
      "source": [
        "# Analysis of QA-Unicorn-Embeddings\n",
        "\n",
        "ref: https://www.udemy.com/course/openai-python-api-bootcamp-learn-to-use-ai-gpt3-and-more/"
      ],
      "metadata": {
        "id": "GGW4iRnu9-fK"
      }
    },
    {
      "cell_type": "markdown",
      "source": [
        "## Imports"
      ],
      "metadata": {
        "id": "gcs4PvT7-jfz"
      }
    },
    {
      "cell_type": "code",
      "execution_count": 1,
      "metadata": {
        "id": "rCX04DgJ9nLD"
      },
      "outputs": [],
      "source": [
        "import pandas as pd\n",
        "import numpy as np"
      ]
    },
    {
      "cell_type": "markdown",
      "source": [
        "# clone GitHub locally"
      ],
      "metadata": {
        "id": "125198_a-uby"
      }
    },
    {
      "cell_type": "code",
      "source": [
        "!git clone -l -s git:\"//github.com/hackathorn/Udemy-JP-OpenAI API Bootcamp.git\" cloned-repo\n",
        "%cd cloned-repo\n",
        "!ls"
      ],
      "metadata": {
        "id": "Y34XaTHy-tqG",
        "colab": {
          "base_uri": "https://localhost:8080/"
        },
        "outputId": "f7950e35-8553-429b-ddf9-fd634e4601f6"
      },
      "execution_count": 2,
      "outputs": [
        {
          "output_type": "stream",
          "name": "stdout",
          "text": [
            "Cloning into 'cloned-repo'...\n",
            "warning: --local is ignored\n",
            "fatal: unable to connect to github.com:\n",
            "github.com[0: 140.82.113.4]: errno=Connection timed out\n",
            "\n",
            "[Errno 2] No such file or directory: 'cloned-repo'\n",
            "/content\n",
            "sample_data\n"
          ]
        }
      ]
    }
  ]
}